{
 "cells": [
  {
   "cell_type": "code",
   "execution_count": null,
   "metadata": {},
   "outputs": [],
   "source": [
    "### importing libraries and loading embedding model\n",
    "from sentence_transformers import SentenceTransformer, util\n",
    "import pandas as pd\n",
    "model =  SentenceTransformer(\"all-MiniLM-L6-v2\")"
   ]
  },
  {
   "cell_type": "code",
   "execution_count": 18,
   "metadata": {},
   "outputs": [],
   "source": [
    "### Reading CSV file using pandas\n",
    "df = pd.read_csv('Text.csv')\n",
    "text_list = df['text'].tolist()\n",
    "embeddings = model.encode(text_list)"
   ]
  },
  {
   "cell_type": "code",
   "execution_count": null,
   "metadata": {},
   "outputs": [],
   "source": [
    "### user input \n",
    "query = \"wht ia pOc ?\"\n",
    "q_list = [query]\n",
    "q_embed = model.encode(q_list)\n",
    "similar = util.cos_sim(q_embed, embeddings)\n",
    "idx = (similar.sort().indices[-1][-1])\n",
    "print(\"Vector Search Score : \",similar.sort(),\"\\n\")\n",
    "print(\"Response : \",df.loc[idx.item(), 'text'])"
   ]
  },
  {
   "cell_type": "code",
   "execution_count": null,
   "metadata": {},
   "outputs": [],
   "source": [
    "### Creating Pkl file \n",
    "import pickle\n",
    "with open('embeddings.pkl', 'wb') as f:\n",
    "    pickle.dump(embeddings, f)"
   ]
  },
  {
   "cell_type": "code",
   "execution_count": 19,
   "metadata": {},
   "outputs": [],
   "source": [
    "### Loading the pkl file\n",
    "with open('embeddings.pkl', 'rb') as f:\n",
    "    loaded_embeddings = pickle.load(f)"
   ]
  },
  {
   "cell_type": "code",
   "execution_count": null,
   "metadata": {},
   "outputs": [],
   "source": [
    "### user input with pkl embeddings\n",
    "query = \"wht ia pOc ?\" \n",
    "q_list = [query]\n",
    "q_embed = model.encode(q_list)\n",
    "similar = util.cos_sim(q_embed, loaded_embeddings)\n",
    "idx = (similar.sort().indices[-1][-1])\n",
    "\n",
    "### Vector search score and index\n",
    "print(\"Vector Search\\t- \\n\\t\",\n",
    "      \"Score : \",similar.sort().values,\"\\n\\t\",\n",
    "      \"index : \",similar.sort().indices,\"\\n\\n\"\n",
    "      )\n",
    "\n",
    "### Result response\n",
    "print(\"Response : \",df.loc[idx.item(), 'text'])"
   ]
  }
 ],
 "metadata": {
  "kernelspec": {
   "display_name": "Python 3",
   "language": "python",
   "name": "python3"
  },
  "language_info": {
   "codemirror_mode": {
    "name": "ipython",
    "version": 3
   },
   "file_extension": ".py",
   "mimetype": "text/x-python",
   "name": "python",
   "nbconvert_exporter": "python",
   "pygments_lexer": "ipython3",
   "version": "3.12.1"
  }
 },
 "nbformat": 4,
 "nbformat_minor": 2
}
