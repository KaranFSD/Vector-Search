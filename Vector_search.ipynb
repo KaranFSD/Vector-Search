{
 "cells": [
  {
   "cell_type": "code",
   "execution_count": 17,
   "metadata": {},
   "outputs": [
    {
     "name": "stderr",
     "output_type": "stream",
     "text": [
      "c:\\Users\\karan.desai\\AppData\\Local\\Programs\\Python\\Python312\\Lib\\site-packages\\huggingface_hub\\file_download.py:1132: FutureWarning: `resume_download` is deprecated and will be removed in version 1.0.0. Downloads always resume when possible. If you want to force a new download, use `force_download=True`.\n",
      "  warnings.warn(\n"
     ]
    }
   ],
   "source": [
    "### importing libraries and loading embedding model\n",
    "from sentence_transformers import SentenceTransformer, util\n",
    "import pandas as pd\n",
    "model =  SentenceTransformer(\"all-MiniLM-L6-v2\")"
   ]
  },
  {
   "cell_type": "code",
   "execution_count": 18,
   "metadata": {},
   "outputs": [],
   "source": [
    "### Reading CSV file using pandas\n",
    "df = pd.read_csv('Text.csv')\n",
    "text_list = df['text'].tolist()\n",
    "embeddings = model.encode(text_list)"
   ]
  },
  {
   "cell_type": "code",
   "execution_count": null,
   "metadata": {},
   "outputs": [],
   "source": [
    "### user input \n",
    "query = \"wht ia pOc ?\"\n",
    "q_list = [query]\n",
    "q_embed = model.encode(q_list)\n",
    "similar = util.cos_sim(q_embed, embeddings)\n",
    "idx = (similar.sort().indices[-1][-1])\n",
    "print(\"Vector Search Score : \",similar.sort(),\"\\n\")\n",
    "print(\"Response : \",df.loc[idx.item(), 'text'])"
   ]
  },
  {
   "cell_type": "code",
   "execution_count": null,
   "metadata": {},
   "outputs": [],
   "source": [
    "### Creating Pkl file \n",
    "import pickle\n",
    "with open('embeddings.pkl', 'wb') as f:\n",
    "    pickle.dump(embeddings, f)"
   ]
  },
  {
   "cell_type": "code",
   "execution_count": 19,
   "metadata": {},
   "outputs": [],
   "source": [
    "### Loading the pkl file\n",
    "with open('embeddings.pkl', 'rb') as f:\n",
    "    loaded_embeddings = pickle.load(f)"
   ]
  },
  {
   "cell_type": "code",
   "execution_count": 33,
   "metadata": {},
   "outputs": [
    {
     "name": "stdout",
     "output_type": "stream",
     "text": [
      "Vector Search\t- \n",
      "\t Score :  tensor([[0.0165, 0.0176, 0.0366, 0.0399, 0.0558, 0.0655, 0.0838, 0.0862, 0.0951,\n",
      "         0.0962, 0.1085, 0.2584, 0.2816]]) \n",
      "\t index :  tensor([[12,  9,  4,  0, 10, 11,  7,  5,  1,  6,  8,  3,  2]]) \n",
      "----------------------------------------------------------------------------------\n",
      "Response :  Proof of Concept (POC) Overview Application Performance Management (APM) OBJECTIVE The objective of this POC is to demonstrate the value and effectiveness of Vector's Application Performance Management (APM) module. The POC aims to showcase how the APM module can provide end-to-end visibility into application performance, identify bottle necks, and optimize application delivery within a 3-week timeframe. POC Sizing APPLICATION SELECTION Choose 2-3 business-critical applications that span various technologies (e.g., web, mobile, databases) and have a significant impact on business operations. USER BASE Include a representative sample of end-users accessing the selected applications, covering different user roles, geographies, and peak usage times. TRANSACTION VOLUME Ensure that the selected applications have a sufficient transaction volume to evaluate the APM module's ability to handle real-world workloads. INFRASTRUCTURE Include the underlying infrastructure components supporting the selected applications, such as servers, databases, and network devices. POC Timeline WEEK 1 PLANNING AND INSTALLATION Identify the specific applications and infrastructure components for the POC. Define success criteria and key performance indicators (KPIs). Install and configure Vector's APM module in the designated environment. WEEK 2 DATA COLLECTION AND SCENARIO TESTING Instrument the selected applications with Vector's APM agents. Collect application performance data, including response times, error rates, and resource utilization. Conduct a series of pre-defined test scenarios to evaluate the APM module's capabilities, including end-to-end transaction tracing, anomaly detection, and performance optimization. WEEK 3 RESULTS ANALYSIS AND PRESENTATION Analyze the POC results and compare them against the defined success criteria. Prepare a comprehensive report highlighting the key findings, benefits, and ROI of the APM module. Present the POC results to stakeholders and gather feedback.\n"
     ]
    }
   ],
   "source": [
    "### user input with pkl embeddings\n",
    "query = \"wht ia pOc ?\" \n",
    "q_list = [query]\n",
    "q_embed = model.encode(q_list)\n",
    "similar = util.cos_sim(q_embed, loaded_embeddings)\n",
    "idx = (similar.sort().indices[-1][-1])\n",
    "\n",
    "### Vector search score and index\n",
    "print(\"Vector Search\\t- \\n\\t\",\n",
    "      \"Score : \",similar.sort().values,\"\\n\\t\",\n",
    "      \"index : \",similar.sort().indices,\"\\n----------------------------------------------------------------------------------\"\n",
    "      )\n",
    "\n",
    "### Result response\n",
    "print(\"Response : \",df.loc[idx.item(), 'text'])"
   ]
  }
 ],
 "metadata": {
  "kernelspec": {
   "display_name": "Python 3",
   "language": "python",
   "name": "python3"
  },
  "language_info": {
   "codemirror_mode": {
    "name": "ipython",
    "version": 3
   },
   "file_extension": ".py",
   "mimetype": "text/x-python",
   "name": "python",
   "nbconvert_exporter": "python",
   "pygments_lexer": "ipython3",
   "version": "3.12.1"
  }
 },
 "nbformat": 4,
 "nbformat_minor": 2
}
